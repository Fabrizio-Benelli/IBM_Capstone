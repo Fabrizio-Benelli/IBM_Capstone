{
 "cells": [
  {
   "cell_type": "markdown",
   "metadata": {},
   "source": [
    "# DATA SECTION"
   ]
  },
  {
   "cell_type": "markdown",
   "metadata": {},
   "source": [
    "Here I describe the data that I will use to solve the problem. I must remember that I will have to use Foursquare's location data to solve the problem. I can also use other datasets in combination with Foursquare location data. So I have to make sure that I provide adequate explanations and discussions, with examples, of the data I will use, even if it is only data on Foursquare's position.\n",
    "I will upload the document to the github repository by attaching the link here, as this section will be part of the final document of the project.\n",
    "\n",
    "Based on the definition of our problem, the factors that will influence our decision are:\n",
    "\n",
    "find the safest district based on crime statistics\n",
    "find the most common places\n",
    "choosing the right neighborhood within the neighborhood\n",
    "I will use the geographic coordinates of San Francisco to trace neighborhoods in a safe neighborhood and close to the city, and finally to group our neighborhoods and present our results.\n",
    "\n",
    "To extract / generate the requested information the following data sources will be needed:\n",
    "\n",
    "Part 1: Using a Kaggle real world data set containing San Francisco crimes from 2003 to 2019: a data set consisting of the crime statistics of each San Francisco neighborhood along with the crime type, year, month and now register.\n",
    "\n",
    "Part 2: Collection of additional information on the list of districts officially classified in San Francisco from Wikipedia: information on the districts will be used to map the existing data in which each district can be assigned to the right district.\n",
    "\n",
    "Part 3: Creation of a new consolidated neighborhood dataset, together with their districts, crime data and respective neighborhood coordinates.: This data will be retrieved using OpenCage Geocoder to find the safest district and explore the neighborhood on maps using Folium and perform exploratory data analysis.\n",
    "\n",
    "Part 4: creation of a new consolidated dataset of the most common neighborhoods, districts and locations and of the respective neighborhood together with coordinates: this data will be recovered using the FourSquare API to explore the neighborhood's locations and apply a machine-learning algorithm to group neighborhoods and present results by plotting them on maps using Folium."
   ]
  }
 ],
 "metadata": {
  "kernelspec": {
   "display_name": "Python 3",
   "language": "python",
   "name": "python3"
  },
  "language_info": {
   "codemirror_mode": {
    "name": "ipython",
    "version": 3
   },
   "file_extension": ".py",
   "mimetype": "text/x-python",
   "name": "python",
   "nbconvert_exporter": "python",
   "pygments_lexer": "ipython3",
   "version": "3.6.5"
  }
 },
 "nbformat": 4,
 "nbformat_minor": 2
}
