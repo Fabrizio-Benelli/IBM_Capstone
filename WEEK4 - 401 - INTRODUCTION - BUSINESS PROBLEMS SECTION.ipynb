{
 "cells": [
  {
   "cell_type": "markdown",
   "metadata": {},
   "source": [
    "# INTRODUCTION / BUSINESS PROBLEMS SECTION"
   ]
  },
  {
   "cell_type": "raw",
   "metadata": {},
   "source": [
    "Here we are at the final test of this long course. I should have acquired all the skills and tools to use location data to explore a geographic location. I now have the opportunity to be as creative as I wish and to see how to take advantage of Foursquare's Location Data to explore or compare the neighborhoods or cities of my choice and to find a problem that I can use to solve Foursquare's location data.\n",
    "I have to clearly define the problem of my choice, where I have to take advantage of Foursquare's location data to solve. I have to remember that data science problems always target an audience and are meant to help a group of stakeholders solve a problem, so I have to explicitly describe my target audience and why they care about the problem.\n",
    "\n",
    "The purpose of this project is to find a safe place for restaurants to open in San Francisco, United States. In particular, this work is aimed at anyone who wants to open a restaurant in San Francisco, in the United States.\n",
    "\n",
    "First I have to choose the safest neighborhood by analyzing the crime data for the opening of the restaurant and a list of a neighborhood, where the restaurants are located as close as possible to the city of San Francisco, but in any case in unusual places.\n",
    "\n",
    "I will use data science tools to analyze the data and focus on the safest district and explore its neighborhoods and the ten most common locations in each neighborhood so that I can select the best neighborhood where the bar is not among the most common places."
   ]
  }
 ],
 "metadata": {
  "kernelspec": {
   "display_name": "Python 3",
   "language": "python",
   "name": "python3"
  },
  "language_info": {
   "codemirror_mode": {
    "name": "ipython",
    "version": 3
   },
   "file_extension": ".py",
   "mimetype": "text/x-python",
   "name": "python",
   "nbconvert_exporter": "python",
   "pygments_lexer": "ipython3",
   "version": "3.6.5"
  }
 },
 "nbformat": 4,
 "nbformat_minor": 2
}
